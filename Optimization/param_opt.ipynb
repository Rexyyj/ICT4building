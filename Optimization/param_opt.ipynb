{
 "cells": [
  {
   "cell_type": "code",
   "execution_count": 1,
   "metadata": {},
   "outputs": [],
   "source": [
    "import matplotlib.pyplot as plt\n",
    "from seaborn import heatmap\n",
    "from seaborn import pairplot\n",
    "from besos import eppy_funcs as ef\n",
    "from besos import sampling\n",
    "from besos.evaluator import EvaluatorEP\n",
    "from besos.parameters import RangeParameter, FieldSelector, FilterSelector, Parameter, expand_plist, wwr, CategoryParameter, GenericSelector\n",
    "from besos.problem import EPProblem\n",
    "import pandas as pd"
   ]
  },
  {
   "cell_type": "code",
   "execution_count": 3,
   "metadata": {},
   "outputs": [],
   "source": [
    "idf_file = '../IDF/single_G.idf'\n",
    "building = ef.get_building(idf_file)"
   ]
  },
  {
   "cell_type": "code",
   "execution_count": 4,
   "metadata": {},
   "outputs": [
    {
     "data": {
      "text/plain": [
       "['Gypsum Plastering_.02',\n",
       " 'Brick_.2',\n",
       " 'Masonry - mediumweight Dry_.2',\n",
       " 'Mortar_.03',\n",
       " 'Ceramic/porcelain_.01',\n",
       " 'Cement/plaster/mortar - cement plaster_.015',\n",
       " 'Masonry - heavyweight Dry_.5',\n",
       " 'Gypsum Plastering_.015',\n",
       " 'Painted Oak_.035',\n",
       " 'Masonry - heavyweight Dry_.12',\n",
       " 'Masonry - heavyweight Dry_.09',\n",
       " 'Brickwork Outer_.1',\n",
       " 'XPS Extruded Polystyrene  - CO2 Blowing_.0795',\n",
       " 'Concrete Block (Medium)_.1',\n",
       " 'Gypsum Plastering_.013',\n",
       " 'Masonry - heavyweight Dry_.27']"
      ]
     },
     "execution_count": 4,
     "metadata": {},
     "output_type": "execute_result"
    }
   ],
   "source": [
    "[materials.Name for materials in building.idfobjects[\"MATERIAL\"]]# get a list of the Name property of all IDF objects of class MATERIAL"
   ]
  },
  {
   "cell_type": "code",
   "execution_count": null,
   "metadata": {},
   "outputs": [],
   "source": []
  },
  {
   "cell_type": "code",
   "execution_count": null,
   "metadata": {},
   "outputs": [],
   "source": []
  },
  {
   "cell_type": "code",
   "execution_count": null,
   "metadata": {},
   "outputs": [],
   "source": []
  },
  {
   "cell_type": "code",
   "execution_count": null,
   "metadata": {},
   "outputs": [],
   "source": []
  },
  {
   "cell_type": "code",
   "execution_count": null,
   "metadata": {},
   "outputs": [],
   "source": []
  },
  {
   "cell_type": "code",
   "execution_count": null,
   "metadata": {},
   "outputs": [],
   "source": []
  },
  {
   "cell_type": "code",
   "execution_count": null,
   "metadata": {},
   "outputs": [],
   "source": []
  },
  {
   "cell_type": "code",
   "execution_count": null,
   "metadata": {},
   "outputs": [],
   "source": []
  }
 ],
 "metadata": {
  "interpreter": {
   "hash": "c9e6795742e5d0248ee35ec9e4e40fea1249ab9df006d6959ed57f9e390a42d9"
  },
  "kernelspec": {
   "display_name": "Python 3.8.12 64-bit ('building': conda)",
   "language": "python",
   "name": "python3"
  },
  "language_info": {
   "codemirror_mode": {
    "name": "ipython",
    "version": 3
   },
   "file_extension": ".py",
   "mimetype": "text/x-python",
   "name": "python",
   "nbconvert_exporter": "python",
   "pygments_lexer": "ipython3",
   "version": "3.8.12"
  },
  "orig_nbformat": 4
 },
 "nbformat": 4,
 "nbformat_minor": 2
}
