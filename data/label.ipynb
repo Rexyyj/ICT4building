{
 "cells": [
  {
   "cell_type": "code",
   "execution_count": null,
   "id": "99a908d5",
   "metadata": {},
   "outputs": [],
   "source": [
    "import pandas as pd"
   ]
  },
  {
   "cell_type": "code",
   "execution_count": null,
   "id": "a19a95b8",
   "metadata": {},
   "outputs": [],
   "source": [
    "data2 = pd.read_csv(\"../../data/processed2.csv\")"
   ]
  },
  {
   "cell_type": "code",
   "execution_count": null,
   "id": "e899dfbb",
   "metadata": {},
   "outputs": [],
   "source": [
    "data2[\"location\"]=\"residential3\"\n",
    "data2[\"out\"] =\"outdoor\"\n",
    "data2[\"temp\"] =\"temp\"\n",
    "data2[\"he\"] =\"heating\"\n",
    "data2[\"co\"] =\"cooling\"\n",
    "data2[\"en\"] =\"energy\"\n",
    "data2[\"el\"] =\"electric\"\n",
    "data2[\"power\"] = data2[\"Electricity:Facility [J](TimeStep)\"]+data2[\"DistrictCooling:Facility [J](TimeStep)\"] +data2[\"DistrictHeating:Facility [J](TimeStep)\"]"
   ]
  },
  {
   "cell_type": "code",
   "execution_count": null,
   "id": "a3c3fcad",
   "metadata": {},
   "outputs": [],
   "source": [
    "data2.columns"
   ]
  },
  {
   "cell_type": "code",
   "execution_count": null,
   "id": "4b947c32",
   "metadata": {},
   "outputs": [],
   "source": [
    "data2.to_csv(\"../../data/processed4.csv\",index=False)"
   ]
  },
  {
   "cell_type": "code",
   "execution_count": null,
   "id": "1a6f5068",
   "metadata": {},
   "outputs": [],
   "source": []
  }
 ],
 "metadata": {
  "kernelspec": {
   "display_name": "Python 3 (ipykernel)",
   "language": "python",
   "name": "python3"
  },
  "language_info": {
   "codemirror_mode": {
    "name": "ipython",
    "version": 3
   },
   "file_extension": ".py",
   "mimetype": "text/x-python",
   "name": "python",
   "nbconvert_exporter": "python",
   "pygments_lexer": "ipython3",
   "version": "3.8.12"
  }
 },
 "nbformat": 4,
 "nbformat_minor": 5
}
