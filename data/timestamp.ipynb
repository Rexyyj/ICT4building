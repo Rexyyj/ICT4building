{
 "cells": [
  {
   "cell_type": "code",
   "execution_count": 1,
   "metadata": {},
   "outputs": [],
   "source": [
    "import pandas as pd"
   ]
  },
  {
   "cell_type": "code",
   "execution_count": 6,
   "metadata": {},
   "outputs": [],
   "source": [
    "data = pd.read_csv(\"../../data/processedData.csv\")"
   ]
  },
  {
   "cell_type": "code",
   "execution_count": 7,
   "metadata": {},
   "outputs": [
    {
     "name": "stdout",
     "output_type": "stream",
     "text": [
      "52560\n"
     ]
    }
   ],
   "source": [
    "print(len(data[\"DateTime\"].to_list()))"
   ]
  },
  {
   "cell_type": "code",
   "execution_count": 8,
   "metadata": {},
   "outputs": [],
   "source": [
    "timestamp = data[\"DateTime\"]\n",
    "begin_time= timestamp[0]"
   ]
  },
  {
   "cell_type": "code",
   "execution_count": 9,
   "metadata": {},
   "outputs": [],
   "source": [
    "counter = 0\n",
    "new_timestamp=[]\n",
    "for t in timestamp:\n",
    "    new_timestamp.append(begin_time+counter*600)\n",
    "    counter+=1\n",
    "data[\"dateTime\"]=new_timestamp"
   ]
  },
  {
   "cell_type": "code",
   "execution_count": 10,
   "metadata": {},
   "outputs": [
    {
     "name": "stdout",
     "output_type": "stream",
     "text": [
      "52560\n"
     ]
    }
   ],
   "source": [
    "print(len(set(new_timestamp)))"
   ]
  },
  {
   "cell_type": "code",
   "execution_count": 6,
   "metadata": {},
   "outputs": [],
   "source": [
    "data.to_csv(\"../../data/processed2.csv\",index=False)"
   ]
  },
  {
   "cell_type": "code",
   "execution_count": null,
   "metadata": {},
   "outputs": [],
   "source": []
  },
  {
   "cell_type": "code",
   "execution_count": 5,
   "metadata": {},
   "outputs": [],
   "source": []
  },
  {
   "cell_type": "code",
   "execution_count": 7,
   "metadata": {},
   "outputs": [],
   "source": []
  },
  {
   "cell_type": "code",
   "execution_count": 10,
   "metadata": {},
   "outputs": [
    {
     "data": {
      "text/plain": [
       "Index(['DateTime',\n",
       "       'Environment:Site Outdoor Air Drybulb Temperature [C](TimeStep)',\n",
       "       'Environment:Site Outdoor Air Dewpoint Temperature [C](TimeStep)',\n",
       "       'Environment:Site Outdoor Air Barometric Pressure [Pa](TimeStep)',\n",
       "       'Environment:Site Wind Speed [m/s](TimeStep)',\n",
       "       'Environment:Site Wind Direction [deg](TimeStep)',\n",
       "       'Environment:Site Diffuse Solar Radiation Rate per Area [W/m2](TimeStep)',\n",
       "       'Environment:Site Direct Solar Radiation Rate per Area [W/m2](TimeStep)',\n",
       "       'Environment:Site Solar Azimuth Angle [deg](TimeStep)',\n",
       "       'Environment:Site Solar Altitude Angle [deg](TimeStep)',\n",
       "       'Electricity:Facility [J](TimeStep)',\n",
       "       'DistrictCooling:Facility [J](TimeStep)',\n",
       "       'DistrictHeating:Facility [J](TimeStep)', 'avgtem', 'usedareatemp',\n",
       "       'location', 'out', 'temp', 'he', 'co', 'en', 'el', 'power'],\n",
       "      dtype='object')"
      ]
     },
     "execution_count": 10,
     "metadata": {},
     "output_type": "execute_result"
    }
   ],
   "source": []
  },
  {
   "cell_type": "code",
   "execution_count": 11,
   "metadata": {},
   "outputs": [],
   "source": []
  }
 ],
 "metadata": {
  "interpreter": {
   "hash": "c9e6795742e5d0248ee35ec9e4e40fea1249ab9df006d6959ed57f9e390a42d9"
  },
  "kernelspec": {
   "display_name": "Python 3 (ipykernel)",
   "language": "python",
   "name": "python3"
  },
  "language_info": {
   "codemirror_mode": {
    "name": "ipython",
    "version": 3
   },
   "file_extension": ".py",
   "mimetype": "text/x-python",
   "name": "python",
   "nbconvert_exporter": "python",
   "pygments_lexer": "ipython3",
   "version": "3.8.12"
  }
 },
 "nbformat": 4,
 "nbformat_minor": 2
}
